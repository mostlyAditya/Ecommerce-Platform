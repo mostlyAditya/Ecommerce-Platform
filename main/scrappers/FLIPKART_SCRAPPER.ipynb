{
 "cells": [
  {
   "cell_type": "code",
   "execution_count": 1,
   "metadata": {},
   "outputs": [],
   "source": [
    "from bs4 import BeautifulSoup\n",
    "import re # import Regular expression operations module\n",
    "import requests"
   ]
  },
  {
   "cell_type": "code",
   "execution_count": 2,
   "metadata": {},
   "outputs": [],
   "source": [
    "headers = {'User-Agent': 'Mozilla/5.0 (Windows NT 6.3; Win64; x64) AppleWebKit/537.36 (KHTML, like Gecko) Chrome/54.0.2840.71 Safari/537.36'}"
   ]
  },
  {
   "cell_type": "code",
   "execution_count": 3,
   "metadata": {},
   "outputs": [],
   "source": [
    "url=\"https://www.flipkart.com/realme-narzo-20-pro-white-knight-64-gb/p/itm043c480bf22fb?pid=MOBFVEATHFZNHMWU&lid=LSTMOBFVEATHFZNHMWUB82QVN&marketplace=FLIPKART&fm=personalisedRecommendation%2Fp2p-same&iid=R%3As%3Bp%3AMOBFPCX72FRDVFKB%3Bpt%3Ahp%3Buid%3A0bcc3c6b-7dec-11eb-8873-137b9bb0a7bc%3B.MOBFVEATHFZNHMWU&ppt=clp&ppn=mobile-phones-store&ssid=n5bnr871280000001614973712668&otracker=hp_reco_Suggested%2Bfor%2BYou_3_9.productCard.PMU_V2_Realme%2BNarzo%2B20%2BPro%2B%2528White%2BKnight%252C%2B64%2BGB%2529_MOBFVEATHFZNHMWU_personalisedRecommendation%2Fp2p-same_2&otracker1=hp_reco_WHITELISTED_personalisedRecommendation%2Fp2p-same_Suggested%2Bfor%2BYou_DESKTOP_HORIZONTAL_productCard_cc_3_NA_view-all&cid=MOBFVEATHFZNHMWU\""
   ]
  },
  {
   "cell_type": "code",
   "execution_count": 4,
   "metadata": {},
   "outputs": [],
   "source": [
    "r = requests.get(url, headers=headers)\n",
    "soup = BeautifulSoup(r.content, \"lxml\")"
   ]
  },
  {
   "cell_type": "code",
   "execution_count": 5,
   "metadata": {},
   "outputs": [],
   "source": [
    "def get_price(soup):\n",
    " \n",
    "    try:\n",
    "        price = soup.find(\"div\", attrs = {'class':'_30jeq3 _16Jk6d'}).string.strip()\n",
    " \n",
    "    except AttributeError:\n",
    "        price = \"\"  \n",
    " \n",
    "    return price.split()[0]#.split()[0] for return string of price from bs4 string"
   ]
  },
  {
   "cell_type": "code",
   "execution_count": 6,
   "metadata": {},
   "outputs": [],
   "source": [
    "def get_title(soup):\n",
    "    \n",
    "    try:\n",
    "        title = soup.find('span', attrs = {'class':'B_NuCI'})\n",
    " \n",
    "    except AttributeError:\n",
    "        title = \"\"  \n",
    " \n",
    "    return title.text\n",
    "    "
   ]
  },
  {
   "cell_type": "code",
   "execution_count": null,
   "metadata": {},
   "outputs": [],
   "source": []
  }
 ],
 "metadata": {
  "kernelspec": {
   "display_name": "Python 3",
   "language": "python",
   "name": "python3"
  },
  "language_info": {
   "codemirror_mode": {
    "name": "ipython",
    "version": 3
   },
   "file_extension": ".py",
   "mimetype": "text/x-python",
   "name": "python",
   "nbconvert_exporter": "python",
   "pygments_lexer": "ipython3",
   "version": "3.8.3"
  }
 },
 "nbformat": 4,
 "nbformat_minor": 4
}
